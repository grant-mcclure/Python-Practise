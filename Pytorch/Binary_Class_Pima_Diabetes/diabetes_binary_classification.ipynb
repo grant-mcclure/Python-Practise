{
 "cells": [
  {
   "cell_type": "code",
   "execution_count": 212,
   "metadata": {},
   "outputs": [],
   "source": [
    "import torch\n",
    "import torch.nn as nn\n",
    "import numpy as np\n",
    "from sklearn.preprocessing import StandardScaler\n",
    "from sklearn.metrics import accuracy_score\n",
    "from sklearn.model_selection import train_test_split\n",
    "from torch.utils.data import DataLoader, TensorDataset\n",
    "import pandas as pd"
   ]
  },
  {
   "cell_type": "code",
   "execution_count": 213,
   "metadata": {},
   "outputs": [],
   "source": [
    "dataframe = pd.read_csv('diabetes.csv')\n",
    "X = dataframe.drop(columns='Outcome')\n",
    "y = dataframe['Outcome']\n",
    "\n",
    "X_train, X_test, y_train, y_test = train_test_split(X,y,train_size = 0.8, random_state = 42)\n"
   ]
  },
  {
   "cell_type": "code",
   "execution_count": 214,
   "metadata": {},
   "outputs": [],
   "source": [
    "device = torch.device('cuda' if torch.cuda.is_available() else 'cpu')"
   ]
  },
  {
   "cell_type": "code",
   "execution_count": 215,
   "metadata": {},
   "outputs": [],
   "source": [
    "scaler = StandardScaler()\n",
    "X_train = scaler.fit_transform(X_train)\n",
    "X_test = scaler.transform(X_test)"
   ]
  },
  {
   "cell_type": "code",
   "execution_count": 216,
   "metadata": {},
   "outputs": [],
   "source": [
    "X_train_tensor = torch.tensor(X_train, dtype=torch.float32).to(device)\n",
    "X_test_tensor = torch.tensor(X_test, dtype=torch.float32).to(device)\n",
    "y_train_tensor = torch.tensor(y_train.values, dtype=torch.float32).unsqueeze(1).to(device) #need to convert to numpy arrays use .values\n",
    "y_test_tensor = torch.tensor(y_test.values, dtype=torch.float32).unsqueeze(1).to(device)"
   ]
  },
  {
   "cell_type": "code",
   "execution_count": 217,
   "metadata": {},
   "outputs": [],
   "source": [
    "train_dataset = TensorDataset(X_train_tensor, y_train_tensor)\n",
    "test_dataset = TensorDataset(X_test_tensor, y_test_tensor)\n",
    "train_dataloader = DataLoader(train_dataset, batch_size= 32, shuffle=True)\n",
    "test_dataloader = DataLoader(test_dataset, batch_size=32, shuffle=False)"
   ]
  },
  {
   "cell_type": "code",
   "execution_count": 218,
   "metadata": {},
   "outputs": [
    {
     "name": "stdout",
     "output_type": "stream",
     "text": [
      "input Size: 8, Output Size: 1\n"
     ]
    }
   ],
   "source": [
    "class BinaryClassifier(nn.Module):\n",
    "    def __init__(self, input_size, hidden_size, output_size):\n",
    "        super(BinaryClassifier, self).__init__()\n",
    "        self.layer1 = nn.Linear(input_size, 128)\n",
    "        self.relu = nn.ReLU()\n",
    "        self.dropout = nn.Dropout(0.5)  # Add dropout\n",
    "        self.layer2 = nn.Linear(128, hidden_size)\n",
    "        self.layer3 = nn.Linear(hidden_size, output_size)\n",
    "\n",
    "    def forward(self, x):\n",
    "        x = self.layer1(x)\n",
    "        x = self.relu(x)\n",
    "        x = self.dropout(x)  # Apply dropout\n",
    "        x = self.layer2(x)\n",
    "        x = self.layer3(x)\n",
    "        return x  # No sigmoid here, for BCEWithLogitsLoss\n",
    "\n",
    "input_size = X.shape[1]\n",
    "hidden_size = 64\n",
    "output_size = 1 #binary classification\n",
    "\n",
    "print(f'input Size: {input_size}, Output Size: {output_size}')"
   ]
  },
  {
   "cell_type": "code",
   "execution_count": 219,
   "metadata": {},
   "outputs": [
    {
     "data": {
      "text/plain": [
       "False"
      ]
     },
     "execution_count": 219,
     "metadata": {},
     "output_type": "execute_result"
    }
   ],
   "source": [
    "model = BinaryClassifier(input_size, hidden_size, output_size).to(device)\n",
    "criterion = nn.BCEWithLogitsLoss()\n",
    "optimiser = torch.optim.Adam(model.parameters(), lr = 0.01)\n",
    "\n",
    "c = X_train is torch.tensor\n",
    "c"
   ]
  },
  {
   "cell_type": "code",
   "execution_count": 220,
   "metadata": {},
   "outputs": [
    {
     "name": "stdout",
     "output_type": "stream",
     "text": [
      "Epoch [100/10000], Loss: 0.3987\n",
      "Epoch [200/10000], Loss: 0.3333\n",
      "Epoch [300/10000], Loss: 0.3137\n",
      "Epoch [400/10000], Loss: 0.3086\n",
      "Epoch [500/10000], Loss: 0.2609\n",
      "Epoch [600/10000], Loss: 0.2902\n",
      "Epoch [700/10000], Loss: 0.2808\n",
      "Epoch [800/10000], Loss: 0.2401\n",
      "Epoch [900/10000], Loss: 0.2605\n",
      "Epoch [1000/10000], Loss: 0.2975\n",
      "Epoch [1100/10000], Loss: 0.2688\n",
      "Epoch [1200/10000], Loss: 0.2414\n",
      "Epoch [1300/10000], Loss: 0.2327\n",
      "Epoch [1400/10000], Loss: 0.2706\n",
      "Epoch [1500/10000], Loss: 0.2873\n",
      "Epoch [1600/10000], Loss: 0.2345\n",
      "Epoch [1700/10000], Loss: 0.2803\n",
      "Epoch [1800/10000], Loss: 0.2289\n",
      "Epoch [1900/10000], Loss: 0.2267\n",
      "Epoch [2000/10000], Loss: 0.2218\n",
      "Epoch [2100/10000], Loss: 0.2438\n",
      "Epoch [2200/10000], Loss: 0.2180\n",
      "Epoch [2300/10000], Loss: 0.2786\n",
      "Epoch [2400/10000], Loss: 0.2559\n",
      "Epoch [2500/10000], Loss: 0.2345\n",
      "Epoch [2600/10000], Loss: 0.2589\n",
      "Epoch [2700/10000], Loss: 0.2224\n",
      "Epoch [2800/10000], Loss: 0.2227\n",
      "Epoch [2900/10000], Loss: 0.2551\n",
      "Epoch [3000/10000], Loss: 0.2281\n",
      "Epoch [3100/10000], Loss: 0.2033\n",
      "Epoch [3200/10000], Loss: 0.2529\n",
      "Epoch [3300/10000], Loss: 0.2207\n",
      "Epoch [3400/10000], Loss: 0.3246\n",
      "Epoch [3500/10000], Loss: 0.2229\n",
      "Epoch [3600/10000], Loss: 0.2351\n",
      "Epoch [3700/10000], Loss: 0.2329\n",
      "Epoch [3800/10000], Loss: 0.2062\n",
      "Epoch [3900/10000], Loss: 0.2592\n",
      "Epoch [4000/10000], Loss: 0.2935\n",
      "Epoch [4100/10000], Loss: 0.2388\n",
      "Epoch [4200/10000], Loss: 0.1978\n",
      "Epoch [4300/10000], Loss: 0.2217\n",
      "Epoch [4400/10000], Loss: 0.2144\n",
      "Epoch [4500/10000], Loss: 0.2307\n",
      "Epoch [4600/10000], Loss: 0.2366\n",
      "Epoch [4700/10000], Loss: 0.2530\n",
      "Epoch [4800/10000], Loss: 0.2103\n",
      "Epoch [4900/10000], Loss: 0.2712\n",
      "Epoch [5000/10000], Loss: 0.2004\n",
      "Epoch [5100/10000], Loss: 0.2189\n",
      "Epoch [5200/10000], Loss: 0.1848\n",
      "Epoch [5300/10000], Loss: 0.2758\n",
      "Epoch [5400/10000], Loss: 0.2574\n",
      "Epoch [5500/10000], Loss: 0.1953\n",
      "Epoch [5600/10000], Loss: 0.2081\n",
      "Epoch [5700/10000], Loss: 0.3365\n",
      "Epoch [5800/10000], Loss: 0.4075\n",
      "Epoch [5900/10000], Loss: 0.2077\n",
      "Epoch [6000/10000], Loss: 0.2190\n",
      "Epoch [6100/10000], Loss: 0.2268\n",
      "Epoch [6200/10000], Loss: 0.2321\n",
      "Epoch [6300/10000], Loss: 0.2203\n",
      "Epoch [6400/10000], Loss: 0.1788\n",
      "Epoch [6500/10000], Loss: 0.2178\n",
      "Epoch [6600/10000], Loss: 0.1994\n",
      "Epoch [6700/10000], Loss: 0.2261\n",
      "Epoch [6800/10000], Loss: 0.1905\n",
      "Epoch [6900/10000], Loss: 0.2161\n",
      "Epoch [7000/10000], Loss: 0.2220\n",
      "Epoch [7100/10000], Loss: 0.3193\n",
      "Epoch [7200/10000], Loss: 0.2105\n",
      "Epoch [7300/10000], Loss: 0.2266\n",
      "Epoch [7400/10000], Loss: 0.2195\n",
      "Epoch [7500/10000], Loss: 0.2029\n",
      "Epoch [7600/10000], Loss: 0.2169\n",
      "Epoch [7700/10000], Loss: 0.2137\n",
      "Epoch [7800/10000], Loss: 0.2027\n",
      "Epoch [7900/10000], Loss: 0.2197\n",
      "Epoch [8000/10000], Loss: 0.1898\n",
      "Epoch [8100/10000], Loss: 0.2041\n",
      "Epoch [8200/10000], Loss: 0.2224\n",
      "Epoch [8300/10000], Loss: 0.2846\n",
      "Epoch [8400/10000], Loss: 0.2763\n",
      "Epoch [8500/10000], Loss: 0.2361\n",
      "Epoch [8600/10000], Loss: 0.2286\n",
      "Epoch [8700/10000], Loss: 0.1969\n",
      "Epoch [8800/10000], Loss: 0.1884\n",
      "Epoch [8900/10000], Loss: 0.2531\n",
      "Epoch [9000/10000], Loss: 0.2857\n",
      "Epoch [9100/10000], Loss: 0.3308\n",
      "Epoch [9200/10000], Loss: 0.2808\n",
      "Epoch [9300/10000], Loss: 0.2032\n",
      "Epoch [9400/10000], Loss: 0.2010\n",
      "Epoch [9500/10000], Loss: 0.2092\n",
      "Epoch [9600/10000], Loss: 0.2523\n",
      "Epoch [9700/10000], Loss: 0.2005\n",
      "Epoch [9800/10000], Loss: 0.2744\n",
      "Epoch [9900/10000], Loss: 0.2141\n",
      "Epoch [10000/10000], Loss: 0.3311\n"
     ]
    }
   ],
   "source": [
    "num_epochs = 10000\n",
    "\n",
    "for epoch in range(num_epochs):\n",
    "    model.train()\n",
    "    epoch_loss = 0\n",
    "    for X_batch, y_batch in train_dataloader:\n",
    "        optimiser.zero_grad()\n",
    "        y_predicted = model(X_batch)\n",
    "        loss = criterion(y_predicted, y_batch)\n",
    "        loss.backward()\n",
    "        optimiser.step()\n",
    "        epoch_loss += loss.item()\n",
    "\n",
    "    if (epoch + 1) % 100 == 0:\n",
    "        print(f'Epoch [{epoch+1}/{num_epochs}], Loss: {epoch_loss/len(train_dataloader):.4f}')\n",
    "    "
   ]
  },
  {
   "cell_type": "code",
   "execution_count": 221,
   "metadata": {},
   "outputs": [
    {
     "name": "stdout",
     "output_type": "stream",
     "text": [
      "Test Accuracy: 0.7208\n"
     ]
    }
   ],
   "source": [
    "# Evaluate the model\n",
    "model.eval()\n",
    "with torch.no_grad():\n",
    "    all_preds = []\n",
    "    all_labels = []\n",
    "    for X_batch, y_batch in test_dataloader:\n",
    "        y_predicted = model(X_batch)\n",
    "        y_predicted = torch.sigmoid(y_predicted)  # Apply sigmoid to get probabilities\n",
    "        all_preds.append(y_predicted)\n",
    "        all_labels.append(y_batch)\n",
    "\n",
    "    y_predicted = torch.cat(all_preds)\n",
    "    y_labels = torch.cat(all_labels)\n",
    "    y_predicted = (y_predicted > 0.5).float()  # Convert probabilities to binary predictions\n",
    "\n",
    "    accuracy = accuracy_score(y_labels.cpu(), y_predicted.cpu())\n",
    "    print(f'Test Accuracy: {accuracy:.4f}')"
   ]
  }
 ],
 "metadata": {
  "kernelspec": {
   "display_name": "Python (GPU)",
   "language": "python",
   "name": "python3_gpu"
  },
  "language_info": {
   "codemirror_mode": {
    "name": "ipython",
    "version": 3
   },
   "file_extension": ".py",
   "mimetype": "text/x-python",
   "name": "python",
   "nbconvert_exporter": "python",
   "pygments_lexer": "ipython3",
   "version": "3.11.5"
  }
 },
 "nbformat": 4,
 "nbformat_minor": 2
}
