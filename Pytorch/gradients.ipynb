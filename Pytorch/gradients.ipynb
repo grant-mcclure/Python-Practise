{
 "cells": [
  {
   "cell_type": "code",
   "execution_count": 22,
   "metadata": {},
   "outputs": [],
   "source": [
    "import torch"
   ]
  },
  {
   "cell_type": "markdown",
   "metadata": {},
   "source": [
    "In PyTorch, gradients represent how much a model's output changes with respect to its inputs or parameters. They're used in training neural networks to adjust the model's weights and minimize errors. The `autograd` system in PyTorch automatically computes these gradients during backpropagation, allowing the model to learn from data by updating its parameters in the direction that reduces the loss (error)."
   ]
  },
  {
   "cell_type": "code",
   "execution_count": 23,
   "metadata": {},
   "outputs": [],
   "source": [
    "x = torch.tensor([3.0], dtype=torch.float32, requires_grad=True) #creates a tensor of value 3.0 that is a float, and sets that it requires grad"
   ]
  },
  {
   "cell_type": "code",
   "execution_count": 24,
   "metadata": {},
   "outputs": [],
   "source": [
    "y = x**2 + 4 #formula"
   ]
  },
  {
   "cell_type": "code",
   "execution_count": 25,
   "metadata": {},
   "outputs": [
    {
     "name": "stdout",
     "output_type": "stream",
     "text": [
      "Gradient x:  tensor([6.])\n"
     ]
    }
   ],
   "source": [
    "y.backward()\n",
    "print(\"Gradient x: \", x.grad)"
   ]
  },
  {
   "cell_type": "markdown",
   "metadata": {},
   "source": [
    "Example 2"
   ]
  },
  {
   "cell_type": "code",
   "execution_count": 26,
   "metadata": {},
   "outputs": [
    {
     "data": {
      "text/plain": [
       "tensor(7., requires_grad=True)"
      ]
     },
     "execution_count": 26,
     "metadata": {},
     "output_type": "execute_result"
    }
   ],
   "source": [
    "x = torch.tensor(3.0)\n",
    "y = torch.tensor(7.0)\n",
    "\n",
    "x.requires_grad_(True) #another way of saying that a tensor requires a gradient\n",
    "y.requires_grad_(True)"
   ]
  },
  {
   "cell_type": "code",
   "execution_count": 27,
   "metadata": {},
   "outputs": [
    {
     "name": "stdout",
     "output_type": "stream",
     "text": [
      "Gradient x:  tensor(5103.)\n",
      "Gradient y:  tensor(2402.6650)\n"
     ]
    }
   ],
   "source": [
    "z = x**y\n",
    "\n",
    "z.backward() #computes derivatibe of z\n",
    "\n",
    "print(\"Gradient x: \", x.grad)\n",
    "print(\"Gradient y: \", y.grad)"
   ]
  },
  {
   "cell_type": "markdown",
   "metadata": {},
   "source": [
    "Example 3: y = mx+b (Straight line) setting m, x and b to tensors then solving for y"
   ]
  },
  {
   "cell_type": "code",
   "execution_count": 28,
   "metadata": {},
   "outputs": [],
   "source": [
    "m = torch.tensor(2.0, dtype=torch.float32, requires_grad=True)\n",
    "x = torch.tensor(4.0, dtype=torch.float32, requires_grad=True)\n",
    "b = torch.tensor(7.0, dtype=torch.float32, requires_grad=True)"
   ]
  },
  {
   "cell_type": "code",
   "execution_count": 29,
   "metadata": {},
   "outputs": [],
   "source": [
    "x = x.detach() #no longer requires gradient for x "
   ]
  },
  {
   "cell_type": "code",
   "execution_count": 30,
   "metadata": {},
   "outputs": [],
   "source": [
    "y = m*x +b #set eqn"
   ]
  },
  {
   "cell_type": "code",
   "execution_count": 31,
   "metadata": {},
   "outputs": [],
   "source": [
    "y.backward() #calculate partial derivatives, no gradient attached to x therefore only values associated with m and b"
   ]
  },
  {
   "cell_type": "code",
   "execution_count": 32,
   "metadata": {},
   "outputs": [
    {
     "name": "stdout",
     "output_type": "stream",
     "text": [
      "Gradient m:  tensor(4.)\n",
      "Gradient x:  None\n",
      "Gradient b:  tensor(1.)\n"
     ]
    }
   ],
   "source": [
    "print(\"Gradient m: \", m.grad) #1*4\n",
    "print(\"Gradient x: \", x.grad)\n",
    "print(\"Gradient b: \", b.grad) #1*b^0"
   ]
  }
 ],
 "metadata": {
  "kernelspec": {
   "display_name": "Python (GPU)",
   "language": "python",
   "name": "python3_gpu"
  },
  "language_info": {
   "codemirror_mode": {
    "name": "ipython",
    "version": 3
   },
   "file_extension": ".py",
   "mimetype": "text/x-python",
   "name": "python",
   "nbconvert_exporter": "python",
   "pygments_lexer": "ipython3",
   "version": "3.11.5"
  }
 },
 "nbformat": 4,
 "nbformat_minor": 2
}
