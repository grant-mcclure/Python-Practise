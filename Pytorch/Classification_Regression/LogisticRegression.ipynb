{
 "cells": [
  {
   "cell_type": "markdown",
   "metadata": {},
   "source": [
    "Logistic Regression"
   ]
  },
  {
   "cell_type": "code",
   "execution_count": 279,
   "metadata": {},
   "outputs": [],
   "source": [
    "import torch\n",
    "import torch.nn as nn\n",
    "import numpy as np\n",
    "import matplotlib.pyplot as plt\n",
    "from sklearn.preprocessing import StandardScaler\n",
    "from sklearn.model_selection import train_test_split\n",
    "from sklearn.datasets import make_classification\n",
    "\n"
   ]
  },
  {
   "cell_type": "code",
   "execution_count": 280,
   "metadata": {},
   "outputs": [],
   "source": [
    "device = torch.device('cuda' if torch.cuda.is_available() else 'cpu')\n",
    "device = 'cpu'"
   ]
  },
  {
   "cell_type": "markdown",
   "metadata": {},
   "source": [
    "Create Dataset"
   ]
  },
  {
   "cell_type": "code",
   "execution_count": 281,
   "metadata": {},
   "outputs": [],
   "source": [
    "X, y = make_classification(\n",
    "    n_samples = 1000, #set num samples\n",
    "    n_features = 17,\n",
    "    n_informative = 10,\n",
    "    n_redundant = 7,\n",
    "    n_classes = 2,\n",
    "    random_state=21\n",
    ")\n"
   ]
  },
  {
   "cell_type": "code",
   "execution_count": 282,
   "metadata": {},
   "outputs": [],
   "source": [
    "X.shape\n",
    "\n",
    "n_samples, n_features = X.shape"
   ]
  },
  {
   "cell_type": "markdown",
   "metadata": {},
   "source": [
    "Create Training and test sets"
   ]
  },
  {
   "cell_type": "code",
   "execution_count": 283,
   "metadata": {},
   "outputs": [],
   "source": [
    "X_train, X_test,y_train, y_test = train_test_split(X,y, train_size=0.8, random_state=42)\n",
    "\n",
    "#scale data\n",
    "\n",
    "scaler = StandardScaler()\n",
    "X_train = scaler.fit_transform(X_train)\n",
    "X_test = scaler.transform(X_test)"
   ]
  },
  {
   "cell_type": "markdown",
   "metadata": {},
   "source": [
    "Convert numpy arrays to tensors"
   ]
  },
  {
   "cell_type": "code",
   "execution_count": 284,
   "metadata": {},
   "outputs": [],
   "source": [
    "X_train = torch.from_numpy(X_train).type(torch.float32).to(device)\n",
    "X_test = torch.from_numpy(X_test).type(torch.float32).to(device)\n",
    "y_train = torch.from_numpy(y_train).type(torch.float32).view(-1,1).to(device) #need to convert y to single column\n",
    "y_test = torch.from_numpy(y_test).type(torch.float32).view(-1,1).to(device)"
   ]
  },
  {
   "cell_type": "markdown",
   "metadata": {},
   "source": [
    "Create class for Logistic Regression"
   ]
  },
  {
   "cell_type": "code",
   "execution_count": 285,
   "metadata": {},
   "outputs": [],
   "source": [
    "class LogisticRegression(nn.Module):\n",
    "    def __init__(self, n_input_features):\n",
    "        super(LogisticRegression, self).__init__()\n",
    "        self.linear1 = nn.Linear(n_input_features,20)\n",
    "        self.linear2 = nn.Linear(20,1) #only want one output hence the reshape of y_train and test\n",
    "        #use activation function\n",
    "        self.elu = nn.ELU() #alwats call elu first within constructor and not within forward passs, sigmoid can call in forward pass\n",
    "\n",
    "#very commoon to put elu between two linear layers as it delinerises data\n",
    "    def forward(self,x):\n",
    "        x = self.elu(self.linear1(x)) #run the x throuygh the elu activation function\n",
    "        y_predicted = torch.sigmoid(self.linear2(x)) #pass x to the y_predicted thpoguh the sigmoid function\n",
    "        return y_predicted"
   ]
  },
  {
   "cell_type": "code",
   "execution_count": 286,
   "metadata": {},
   "outputs": [],
   "source": [
    "model = LogisticRegression(n_features).to(device)"
   ]
  },
  {
   "cell_type": "code",
   "execution_count": 287,
   "metadata": {},
   "outputs": [],
   "source": [
    "criterion = nn.BCELoss() #binary cross entropy\n",
    "optimiser = torch.optim.SGD(model.parameters(), lr = 0.1)"
   ]
  },
  {
   "cell_type": "markdown",
   "metadata": {},
   "source": [
    "Training Loop"
   ]
  },
  {
   "cell_type": "code",
   "execution_count": 288,
   "metadata": {},
   "outputs": [
    {
     "name": "stdout",
     "output_type": "stream",
     "text": [
      "epoch 100, loss =  0.31\n",
      "epoch 200, loss =  0.26\n",
      "epoch 300, loss =  0.22\n",
      "epoch 400, loss =  0.19\n",
      "epoch 500, loss =  0.17\n",
      "epoch 600, loss =  0.15\n",
      "epoch 700, loss =  0.14\n",
      "epoch 800, loss =  0.13\n",
      "epoch 900, loss =  0.12\n",
      "epoch 1000, loss =  0.12\n"
     ]
    }
   ],
   "source": [
    "num_epochs = 1000\n",
    "\n",
    "for epoch in range(num_epochs):\n",
    "    model.train()\n",
    "\n",
    "    y_predicted = model(X_train)\n",
    "\n",
    "    loss = criterion(y_predicted, y_train) #difference between test and train\n",
    "    \n",
    "    \n",
    "    #ack pass\n",
    "    loss.backward()\n",
    "    optimiser.step()\n",
    "    optimiser.zero_grad()\n",
    "\n",
    "    if (epoch + 1)%100 == 0:\n",
    "        print(f'epoch {epoch+1}, loss = {loss.item(): .2f}')"
   ]
  },
  {
   "cell_type": "markdown",
   "metadata": {},
   "source": [
    "Evaluate the Model"
   ]
  },
  {
   "cell_type": "code",
   "execution_count": 289,
   "metadata": {},
   "outputs": [
    {
     "name": "stdout",
     "output_type": "stream",
     "text": [
      "accuracy: 0.89\n"
     ]
    }
   ],
   "source": [
    "model.eval()\n",
    "\n",
    "with torch.inference_mode():\n",
    "    y_predicted = model(X_test)\n",
    "    y_predicted_cls = y_predicted.round()\n",
    "\n",
    "    acc = y_predicted_cls.eq(y_test).sum()/float(y_test.shape[0])\n",
    "\n",
    "    #.eq is a boolean comparator therefore if y_test is the same as y_predicted then will retrun true then this is divided by the shape of y_test which is the \n",
    "    #20% of the data defined in the test train split function \n",
    "\n",
    "    print(f'accuracy: {acc:.2f}')"
   ]
  }
 ],
 "metadata": {
  "kernelspec": {
   "display_name": "Python (GPU)",
   "language": "python",
   "name": "python3_gpu"
  },
  "language_info": {
   "codemirror_mode": {
    "name": "ipython",
    "version": 3
   },
   "file_extension": ".py",
   "mimetype": "text/x-python",
   "name": "python",
   "nbconvert_exporter": "python",
   "pygments_lexer": "ipython3",
   "version": "3.11.5"
  }
 },
 "nbformat": 4,
 "nbformat_minor": 2
}
